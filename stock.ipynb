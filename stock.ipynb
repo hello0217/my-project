{
 "metadata": {
  "language_info": {
   "codemirror_mode": {
    "name": "ipython",
    "version": 3
   },
   "file_extension": ".py",
   "mimetype": "text/x-python",
   "name": "python",
   "nbconvert_exporter": "python",
   "pygments_lexer": "ipython3",
   "version": "3.7.3-final"
  },
  "orig_nbformat": 2,
  "kernelspec": {
   "name": "python3",
   "display_name": "Python 3.7.3 64-bit (conda)",
   "metadata": {
    "interpreter": {
     "hash": "95d73d6fd1cff5fb2f41ff3c75621fd967f90acca1c16714a7d5860f4cfbfbc9"
    }
   }
  }
 },
 "nbformat": 4,
 "nbformat_minor": 2,
 "cells": [
  {
   "source": [
    "# 取得台股日線資料"
   ],
   "cell_type": "markdown",
   "metadata": {}
  },
  {
   "source": [
    "到台灣證券交易所取得資料\n",
    "[證交所](https://www.twse.com.tw/exchangeReport/MI_INDEX?response=csv&date=20201119&type=ALLBUT0999)"
   ],
   "cell_type": "markdown",
   "metadata": {}
  },
  {
   "source": [],
   "cell_type": "markdown",
   "metadata": {}
  },
  {
   "source": [
    "import pandas as pd\n",
    "import requests\n",
    "import io"
   ],
   "cell_type": "code",
   "metadata": {},
   "execution_count": 9,
   "outputs": []
  },
  {
   "source": [
    "url = 'https://www.twse.com.tw/exchangeReport/MI_INDEX?response=csv&date=20201119&type=ALLBUT0999'\n",
    "page = requests.get(url)"
   ],
   "cell_type": "code",
   "metadata": {},
   "execution_count": 19,
   "outputs": []
  },
  {
   "cell_type": "code",
   "execution_count": 12,
   "metadata": {},
   "outputs": [
    {
     "output_type": "execute_result",
     "data": {
      "text/plain": [
       "   1  2  3 \n",
       "0  1  2   3"
      ],
      "text/html": "<div>\n<style scoped>\n    .dataframe tbody tr th:only-of-type {\n        vertical-align: middle;\n    }\n\n    .dataframe tbody tr th {\n        vertical-align: top;\n    }\n\n    .dataframe thead th {\n        text-align: right;\n    }\n</style>\n<table border=\"1\" class=\"dataframe\">\n  <thead>\n    <tr style=\"text-align: right;\">\n      <th></th>\n      <th>1</th>\n      <th>2</th>\n      <th>3</th>\n    </tr>\n  </thead>\n  <tbody>\n    <tr>\n      <th>0</th>\n      <td>1</td>\n      <td>2</td>\n      <td>3</td>\n    </tr>\n  </tbody>\n</table>\n</div>"
     },
     "metadata": {},
     "execution_count": 12
    }
   ],
   "source": [
    "pd.read_csv(io.StringIO('1,2,3 \\n 1,2,3'))"
   ]
  },
  {
   "source": [
    "## 1. 將文字檔處理成pandas可以處理的格式"
   ],
   "cell_type": "markdown",
   "metadata": {}
  },
  {
   "cell_type": "code",
   "execution_count": 97,
   "metadata": {},
   "outputs": [
    {
     "output_type": "execute_result",
     "data": {
      "text/plain": [
       "'\"證券代號\",\"證券名稱\",\"成交股數\",\"成交筆數\",\"成交金額\",\"開盤價\",\"最高價\",\"最低價\",\"收盤價\",\"漲跌(+/-)\",\"漲跌價差\",\"最後揭示買價\",\"最後揭示買量\",\"最後揭示賣價\",\"最後揭示賣量\",\"本益比\",'"
      ]
     },
     "metadata": {},
     "execution_count": 97
    }
   ],
   "source": [
    "use_text = page.text.splitlines()\n",
    "use_text[205] ## 作弊直接從excel看他在第幾行"
   ]
  },
  {
   "source": [
    "### 目標是抓從證券代號開始的表格 所以搜尋他是在第幾行"
   ],
   "cell_type": "markdown",
   "metadata": {}
  },
  {
   "source": [
    "* 作弊直接從excel看\n",
    "* 用迴圈搜尋"
   ],
   "cell_type": "markdown",
   "metadata": {}
  },
  {
   "source": [
    "for i, data in enumerate([2,4,6]):\n",
    "    print(i, data)"
   ],
   "cell_type": "code",
   "metadata": {},
   "execution_count": 85,
   "outputs": [
    {
     "output_type": "stream",
     "name": "stdout",
     "text": [
      "0 2\n1 4\n2 6\n"
     ]
    }
   ]
  },
  {
   "cell_type": "code",
   "execution_count": 75,
   "metadata": {},
   "outputs": [],
   "source": [
    "for i, text in enumerate(use_text):\n",
    "    if text.startswith('\"證券代號\",\"證券名稱\",\"成交股數\",\"成交筆數\"') == 1:\n",
    "        initial_point = i\n",
    "        break"
   ]
  },
  {
   "cell_type": "code",
   "execution_count": 128,
   "metadata": {
    "tags": []
   },
   "outputs": [
    {
     "output_type": "execute_result",
     "data": {
      "text/plain": [
       "      證券代號     證券名稱       成交股數   成交筆數         成交金額     開盤價     最高價     最低價  \\\n",
       "0  =\"0050\"   元大台灣50  4,505,205  3,786  514,299,847  114.45  114.55  113.80   \n",
       "1  =\"0051\"  元大中型100     54,075     42    2,237,445   41.26   41.45   41.26   \n",
       "2  =\"0052\"     富邦科技  1,106,750    342  111,937,331  102.00  102.00  100.90   \n",
       "3  =\"0053\"     元大電子     34,197     19    1,846,611   54.20   54.30   53.95   \n",
       "4  =\"0054\"   元大台商50     10,000      7      267,310   26.70   26.80   26.70   \n",
       "\n",
       "      收盤價 漲跌(+/-)  漲跌價差  最後揭示買價 最後揭示買量  最後揭示賣價 最後揭示賣量   本益比  \n",
       "0  114.15       -  0.20  114.10     18  114.15    109  0.00  \n",
       "1   41.42       +  0.16   41.40      2   41.41      2  0.00  \n",
       "2  101.05       -  0.65  101.00     12  101.05      9  0.00  \n",
       "3   54.05       -  0.50   54.05      1   54.40      1  0.00  \n",
       "4   26.80       +  0.10   26.78     50   26.79      1  0.00  "
      ],
      "text/html": "<div>\n<style scoped>\n    .dataframe tbody tr th:only-of-type {\n        vertical-align: middle;\n    }\n\n    .dataframe tbody tr th {\n        vertical-align: top;\n    }\n\n    .dataframe thead th {\n        text-align: right;\n    }\n</style>\n<table border=\"1\" class=\"dataframe\">\n  <thead>\n    <tr style=\"text-align: right;\">\n      <th></th>\n      <th>證券代號</th>\n      <th>證券名稱</th>\n      <th>成交股數</th>\n      <th>成交筆數</th>\n      <th>成交金額</th>\n      <th>開盤價</th>\n      <th>最高價</th>\n      <th>最低價</th>\n      <th>收盤價</th>\n      <th>漲跌(+/-)</th>\n      <th>漲跌價差</th>\n      <th>最後揭示買價</th>\n      <th>最後揭示買量</th>\n      <th>最後揭示賣價</th>\n      <th>最後揭示賣量</th>\n      <th>本益比</th>\n    </tr>\n  </thead>\n  <tbody>\n    <tr>\n      <th>0</th>\n      <td>=\"0050\"</td>\n      <td>元大台灣50</td>\n      <td>4,505,205</td>\n      <td>3,786</td>\n      <td>514,299,847</td>\n      <td>114.45</td>\n      <td>114.55</td>\n      <td>113.80</td>\n      <td>114.15</td>\n      <td>-</td>\n      <td>0.20</td>\n      <td>114.10</td>\n      <td>18</td>\n      <td>114.15</td>\n      <td>109</td>\n      <td>0.00</td>\n    </tr>\n    <tr>\n      <th>1</th>\n      <td>=\"0051\"</td>\n      <td>元大中型100</td>\n      <td>54,075</td>\n      <td>42</td>\n      <td>2,237,445</td>\n      <td>41.26</td>\n      <td>41.45</td>\n      <td>41.26</td>\n      <td>41.42</td>\n      <td>+</td>\n      <td>0.16</td>\n      <td>41.40</td>\n      <td>2</td>\n      <td>41.41</td>\n      <td>2</td>\n      <td>0.00</td>\n    </tr>\n    <tr>\n      <th>2</th>\n      <td>=\"0052\"</td>\n      <td>富邦科技</td>\n      <td>1,106,750</td>\n      <td>342</td>\n      <td>111,937,331</td>\n      <td>102.00</td>\n      <td>102.00</td>\n      <td>100.90</td>\n      <td>101.05</td>\n      <td>-</td>\n      <td>0.65</td>\n      <td>101.00</td>\n      <td>12</td>\n      <td>101.05</td>\n      <td>9</td>\n      <td>0.00</td>\n    </tr>\n    <tr>\n      <th>3</th>\n      <td>=\"0053\"</td>\n      <td>元大電子</td>\n      <td>34,197</td>\n      <td>19</td>\n      <td>1,846,611</td>\n      <td>54.20</td>\n      <td>54.30</td>\n      <td>53.95</td>\n      <td>54.05</td>\n      <td>-</td>\n      <td>0.50</td>\n      <td>54.05</td>\n      <td>1</td>\n      <td>54.40</td>\n      <td>1</td>\n      <td>0.00</td>\n    </tr>\n    <tr>\n      <th>4</th>\n      <td>=\"0054\"</td>\n      <td>元大台商50</td>\n      <td>10,000</td>\n      <td>7</td>\n      <td>267,310</td>\n      <td>26.70</td>\n      <td>26.80</td>\n      <td>26.70</td>\n      <td>26.80</td>\n      <td>+</td>\n      <td>0.10</td>\n      <td>26.78</td>\n      <td>50</td>\n      <td>26.79</td>\n      <td>1</td>\n      <td>0.00</td>\n    </tr>\n  </tbody>\n</table>\n</div>"
     },
     "metadata": {},
     "execution_count": 128
    }
   ],
   "source": [
    "joinstr = ''.join([text[:-1] + '\\n' for text in use_text[initial_point:]]) \n",
    "## 取代掉每個元素結尾的逗號換成換行符號 在把所有字串連接在一起\n",
    "test_df = pd.read_csv(io.StringIO(joinstr))\n",
    "test_df.head()"
   ]
  },
  {
   "cell_type": "code",
   "execution_count": 130,
   "metadata": {},
   "outputs": [
    {
     "output_type": "execute_result",
     "data": {
      "text/plain": [
       "   證券代號     證券名稱       成交股數   成交筆數         成交金額     開盤價     最高價     最低價  \\\n",
       "0  0050   元大台灣50  4,505,205  3,786  514,299,847  114.45  114.55  113.80   \n",
       "1  0051  元大中型100     54,075     42    2,237,445   41.26   41.45   41.26   \n",
       "2  0052     富邦科技  1,106,750    342  111,937,331  102.00  102.00  100.90   \n",
       "3  0053     元大電子     34,197     19    1,846,611   54.20   54.30   53.95   \n",
       "4  0054   元大台商50     10,000      7      267,310   26.70   26.80   26.70   \n",
       "\n",
       "      收盤價 漲跌(+/-)  漲跌價差  最後揭示買價 最後揭示買量  最後揭示賣價 最後揭示賣量   本益比  \n",
       "0  114.15       -  0.20  114.10     18  114.15    109  0.00  \n",
       "1   41.42       +  0.16   41.40      2   41.41      2  0.00  \n",
       "2  101.05       -  0.65  101.00     12  101.05      9  0.00  \n",
       "3   54.05       -  0.50   54.05      1   54.40      1  0.00  \n",
       "4   26.80       +  0.10   26.78     50   26.79      1  0.00  "
      ],
      "text/html": "<div>\n<style scoped>\n    .dataframe tbody tr th:only-of-type {\n        vertical-align: middle;\n    }\n\n    .dataframe tbody tr th {\n        vertical-align: top;\n    }\n\n    .dataframe thead th {\n        text-align: right;\n    }\n</style>\n<table border=\"1\" class=\"dataframe\">\n  <thead>\n    <tr style=\"text-align: right;\">\n      <th></th>\n      <th>證券代號</th>\n      <th>證券名稱</th>\n      <th>成交股數</th>\n      <th>成交筆數</th>\n      <th>成交金額</th>\n      <th>開盤價</th>\n      <th>最高價</th>\n      <th>最低價</th>\n      <th>收盤價</th>\n      <th>漲跌(+/-)</th>\n      <th>漲跌價差</th>\n      <th>最後揭示買價</th>\n      <th>最後揭示買量</th>\n      <th>最後揭示賣價</th>\n      <th>最後揭示賣量</th>\n      <th>本益比</th>\n    </tr>\n  </thead>\n  <tbody>\n    <tr>\n      <th>0</th>\n      <td>0050</td>\n      <td>元大台灣50</td>\n      <td>4,505,205</td>\n      <td>3,786</td>\n      <td>514,299,847</td>\n      <td>114.45</td>\n      <td>114.55</td>\n      <td>113.80</td>\n      <td>114.15</td>\n      <td>-</td>\n      <td>0.20</td>\n      <td>114.10</td>\n      <td>18</td>\n      <td>114.15</td>\n      <td>109</td>\n      <td>0.00</td>\n    </tr>\n    <tr>\n      <th>1</th>\n      <td>0051</td>\n      <td>元大中型100</td>\n      <td>54,075</td>\n      <td>42</td>\n      <td>2,237,445</td>\n      <td>41.26</td>\n      <td>41.45</td>\n      <td>41.26</td>\n      <td>41.42</td>\n      <td>+</td>\n      <td>0.16</td>\n      <td>41.40</td>\n      <td>2</td>\n      <td>41.41</td>\n      <td>2</td>\n      <td>0.00</td>\n    </tr>\n    <tr>\n      <th>2</th>\n      <td>0052</td>\n      <td>富邦科技</td>\n      <td>1,106,750</td>\n      <td>342</td>\n      <td>111,937,331</td>\n      <td>102.00</td>\n      <td>102.00</td>\n      <td>100.90</td>\n      <td>101.05</td>\n      <td>-</td>\n      <td>0.65</td>\n      <td>101.00</td>\n      <td>12</td>\n      <td>101.05</td>\n      <td>9</td>\n      <td>0.00</td>\n    </tr>\n    <tr>\n      <th>3</th>\n      <td>0053</td>\n      <td>元大電子</td>\n      <td>34,197</td>\n      <td>19</td>\n      <td>1,846,611</td>\n      <td>54.20</td>\n      <td>54.30</td>\n      <td>53.95</td>\n      <td>54.05</td>\n      <td>-</td>\n      <td>0.50</td>\n      <td>54.05</td>\n      <td>1</td>\n      <td>54.40</td>\n      <td>1</td>\n      <td>0.00</td>\n    </tr>\n    <tr>\n      <th>4</th>\n      <td>0054</td>\n      <td>元大台商50</td>\n      <td>10,000</td>\n      <td>7</td>\n      <td>267,310</td>\n      <td>26.70</td>\n      <td>26.80</td>\n      <td>26.70</td>\n      <td>26.80</td>\n      <td>+</td>\n      <td>0.10</td>\n      <td>26.78</td>\n      <td>50</td>\n      <td>26.79</td>\n      <td>1</td>\n      <td>0.00</td>\n    </tr>\n  </tbody>\n</table>\n</div>"
     },
     "metadata": {},
     "execution_count": 130
    }
   ],
   "source": [
    "test_df['證券代號'] = test_df['證券代號'].apply(lambda x:x.replace('\"', ''))\n",
    "test_df['證券代號'] = test_df['證券代號'].apply(lambda x:x.replace('=', ''))\n",
    "test_df.head()"
   ]
  },
  {
   "source": [
    "## 2.將以上內容包裝成一個function 輸入多個日期回傳多個df"
   ],
   "cell_type": "markdown",
   "metadata": {}
  },
  {
   "cell_type": "code",
   "execution_count": 131,
   "metadata": {},
   "outputs": [],
   "source": [
    "def crawler(data_time):\n",
    "    page_url = 'https://www.twse.com.tw/exchangeReport/MI_INDEX?response=csv&date=' + data_time + \"&type=ALLBUT0999\"\n",
    "    page = requests.get(page_url)\n",
    "    use_text = page.text.splitlines()\n",
    "for i, text in enumerate(use_text):\n",
    "    if text.startswith('\"證券代號\",\"證券名稱\",\"成交股數\",\"成交筆數\"') == 1:\n",
    "        initial_point = i\n",
    "        break\n",
    "    joinstr = ''.join([text[:-1] + '\\n' for text in use_text[initial_point:]]) \n",
    "    ## 取代掉每個元素結尾的逗號換成換行符號 在把所有字串連接在一起\n",
    "    test_df = pd.read_csv(io.StringIO(joinstr))\n",
    "    test_df['證券代號'] = test_df['證券代號'].apply(lambda x:x.replace('\"', ''))\n",
    "    test_df['證券代號'] = test_df['證券代號'].apply(lambda x:x.replace('=', ''))\n",
    "    return test_d\n",
    "            "
   ]
  },
  {
   "cell_type": "code",
   "execution_count": 137,
   "metadata": {},
   "outputs": [
    {
     "output_type": "execute_result",
     "data": {
      "text/plain": [
       "   證券代號     證券名稱       成交股數   成交筆數         成交金額     開盤價     最高價     最低價  \\\n",
       "0  0050   元大台灣50  4,505,205  3,786  514,299,847  114.45  114.55  113.80   \n",
       "1  0051  元大中型100     54,075     42    2,237,445   41.26   41.45   41.26   \n",
       "2  0052     富邦科技  1,106,750    342  111,937,331  102.00  102.00  100.90   \n",
       "3  0053     元大電子     34,197     19    1,846,611   54.20   54.30   53.95   \n",
       "4  0054   元大台商50     10,000      7      267,310   26.70   26.80   26.70   \n",
       "\n",
       "      收盤價 漲跌(+/-)  漲跌價差  最後揭示買價 最後揭示買量  最後揭示賣價 最後揭示賣量   本益比  \n",
       "0  114.15       -  0.20  114.10     18  114.15    109  0.00  \n",
       "1   41.42       +  0.16   41.40      2   41.41      2  0.00  \n",
       "2  101.05       -  0.65  101.00     12  101.05      9  0.00  \n",
       "3   54.05       -  0.50   54.05      1   54.40      1  0.00  \n",
       "4   26.80       +  0.10   26.78     50   26.79      1  0.00  "
      ],
      "text/html": "<div>\n<style scoped>\n    .dataframe tbody tr th:only-of-type {\n        vertical-align: middle;\n    }\n\n    .dataframe tbody tr th {\n        vertical-align: top;\n    }\n\n    .dataframe thead th {\n        text-align: right;\n    }\n</style>\n<table border=\"1\" class=\"dataframe\">\n  <thead>\n    <tr style=\"text-align: right;\">\n      <th></th>\n      <th>證券代號</th>\n      <th>證券名稱</th>\n      <th>成交股數</th>\n      <th>成交筆數</th>\n      <th>成交金額</th>\n      <th>開盤價</th>\n      <th>最高價</th>\n      <th>最低價</th>\n      <th>收盤價</th>\n      <th>漲跌(+/-)</th>\n      <th>漲跌價差</th>\n      <th>最後揭示買價</th>\n      <th>最後揭示買量</th>\n      <th>最後揭示賣價</th>\n      <th>最後揭示賣量</th>\n      <th>本益比</th>\n    </tr>\n  </thead>\n  <tbody>\n    <tr>\n      <th>0</th>\n      <td>0050</td>\n      <td>元大台灣50</td>\n      <td>4,505,205</td>\n      <td>3,786</td>\n      <td>514,299,847</td>\n      <td>114.45</td>\n      <td>114.55</td>\n      <td>113.80</td>\n      <td>114.15</td>\n      <td>-</td>\n      <td>0.20</td>\n      <td>114.10</td>\n      <td>18</td>\n      <td>114.15</td>\n      <td>109</td>\n      <td>0.00</td>\n    </tr>\n    <tr>\n      <th>1</th>\n      <td>0051</td>\n      <td>元大中型100</td>\n      <td>54,075</td>\n      <td>42</td>\n      <td>2,237,445</td>\n      <td>41.26</td>\n      <td>41.45</td>\n      <td>41.26</td>\n      <td>41.42</td>\n      <td>+</td>\n      <td>0.16</td>\n      <td>41.40</td>\n      <td>2</td>\n      <td>41.41</td>\n      <td>2</td>\n      <td>0.00</td>\n    </tr>\n    <tr>\n      <th>2</th>\n      <td>0052</td>\n      <td>富邦科技</td>\n      <td>1,106,750</td>\n      <td>342</td>\n      <td>111,937,331</td>\n      <td>102.00</td>\n      <td>102.00</td>\n      <td>100.90</td>\n      <td>101.05</td>\n      <td>-</td>\n      <td>0.65</td>\n      <td>101.00</td>\n      <td>12</td>\n      <td>101.05</td>\n      <td>9</td>\n      <td>0.00</td>\n    </tr>\n    <tr>\n      <th>3</th>\n      <td>0053</td>\n      <td>元大電子</td>\n      <td>34,197</td>\n      <td>19</td>\n      <td>1,846,611</td>\n      <td>54.20</td>\n      <td>54.30</td>\n      <td>53.95</td>\n      <td>54.05</td>\n      <td>-</td>\n      <td>0.50</td>\n      <td>54.05</td>\n      <td>1</td>\n      <td>54.40</td>\n      <td>1</td>\n      <td>0.00</td>\n    </tr>\n    <tr>\n      <th>4</th>\n      <td>0054</td>\n      <td>元大台商50</td>\n      <td>10,000</td>\n      <td>7</td>\n      <td>267,310</td>\n      <td>26.70</td>\n      <td>26.80</td>\n      <td>26.70</td>\n      <td>26.80</td>\n      <td>+</td>\n      <td>0.10</td>\n      <td>26.78</td>\n      <td>50</td>\n      <td>26.79</td>\n      <td>1</td>\n      <td>0.00</td>\n    </tr>\n  </tbody>\n</table>\n</div>"
     },
     "metadata": {},
     "execution_count": 137
    }
   ],
   "source": [
    "crawler('20201119').head()"
   ]
  },
  {
   "source": [
    "## 3. 利用 datatime 物件操作加一天減一天"
   ],
   "cell_type": "markdown",
   "metadata": {}
  },
  {
   "cell_type": "code",
   "execution_count": 139,
   "metadata": {},
   "outputs": [],
   "source": [
    "import datetime\n",
    "import time"
   ]
  },
  {
   "cell_type": "code",
   "execution_count": 153,
   "metadata": {},
   "outputs": [
    {
     "output_type": "execute_result",
     "data": {
      "text/plain": [
       "datetime.datetime(2020, 11, 19, 23, 37, 21, 388353)"
      ]
     },
     "metadata": {},
     "execution_count": 153
    }
   ],
   "source": [
    "date = datetime.datetime.now()\n",
    "date"
   ]
  },
  {
   "cell_type": "code",
   "execution_count": 154,
   "metadata": {},
   "outputs": [
    {
     "output_type": "execute_result",
     "data": {
      "text/plain": [
       "'2020-11-19'"
      ]
     },
     "metadata": {},
     "execution_count": 154
    }
   ],
   "source": [
    "date = str(date).split(' ')[0]\n",
    "date"
   ]
  },
  {
   "cell_type": "code",
   "execution_count": 155,
   "metadata": {},
   "outputs": [
    {
     "output_type": "execute_result",
     "data": {
      "text/plain": [
       "'20201119'"
      ]
     },
     "metadata": {},
     "execution_count": 155
    }
   ],
   "source": [
    "date = ''.join(date.split('-'))\n",
    "date"
   ]
  },
  {
   "cell_type": "code",
   "execution_count": 156,
   "metadata": {},
   "outputs": [],
   "source": [
    "def trans_date(date_time):\n",
    "    return ''.join(str(date_time).split(' ')[0].split('-'))"
   ]
  },
  {
   "cell_type": "code",
   "execution_count": 164,
   "metadata": {},
   "outputs": [],
   "source": [
    "def parse_n_days(start_date, n):\n",
    "    df_dict = {}\n",
    "    now_date = start_date\n",
    "    for i in range(n):\n",
    "        time.sleep(3)\n",
    "        now_date = now_date - datetime.timedelta(days = 1)\n",
    "        try:\n",
    "            df = crawler(trans_date(now_date))\n",
    "            print(\"Success!\" + ' ' + trans_date(now_date))\n",
    "            df_dict.update({trans_date(now_date):df})\n",
    "        except:\n",
    "            print('Fails at' + ' ' + trans_date(now_date))\n",
    "    return df_dict           "
   ]
  },
  {
   "cell_type": "code",
   "execution_count": 165,
   "metadata": {},
   "outputs": [
    {
     "output_type": "stream",
     "name": "stdout",
     "text": [
      "Success! 20201118\n",
      "Success! 20201117\n",
      "Success! 20201116\n",
      "Fails at 20201115\n",
      "Fails at 20201114\n",
      "Success! 20201113\n"
     ]
    }
   ],
   "source": [
    "result_dict = parse_n_days(datetime.datetime.now(), 6)"
   ]
  },
  {
   "cell_type": "code",
   "execution_count": 166,
   "metadata": {},
   "outputs": [
    {
     "output_type": "execute_result",
     "data": {
      "text/plain": [
       "dict_keys(['20201118', '20201117', '20201116', '20201113'])"
      ]
     },
     "metadata": {},
     "execution_count": 166
    }
   ],
   "source": [
    "result_dict.keys()"
   ]
  },
  {
   "cell_type": "code",
   "execution_count": null,
   "metadata": {},
   "outputs": [],
   "source": []
  }
 ]
}