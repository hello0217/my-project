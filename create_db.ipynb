{
 "metadata": {
  "language_info": {
   "codemirror_mode": {
    "name": "ipython",
    "version": 3
   },
   "file_extension": ".py",
   "mimetype": "text/x-python",
   "name": "python",
   "nbconvert_exporter": "python",
   "pygments_lexer": "ipython3",
   "version": "3.7.3-final"
  },
  "orig_nbformat": 2,
  "kernelspec": {
   "name": "python3",
   "display_name": "Python 3.7.3 64-bit (conda)",
   "metadata": {
    "interpreter": {
     "hash": "95d73d6fd1cff5fb2f41ff3c75621fd967f90acca1c16714a7d5860f4cfbfbc9"
    }
   }
  }
 },
 "nbformat": 4,
 "nbformat_minor": 2,
 "cells": [
  {
   "source": [
    "# 創建一個sqlite檔案，整理抓到的csv檔案"
   ],
   "cell_type": "markdown",
   "metadata": {}
  },
  {
   "source": [
    "* 利用 glob及 pandas套件來讀取資料\n",
    "\n",
    "* 建立一個 sqlite檔案 來存入資料庫\n",
    "\n",
    "* 進一步整理為用個股來分的資料庫"
   ],
   "cell_type": "markdown",
   "metadata": {}
  },
  {
   "source": [
    "## 1. 讀取我們抓到的資料\n",
    "### 用 pandas一個一個讀入很沒有效率，使用 glob套件一次讀入所有的 csv檔案"
   ],
   "cell_type": "markdown",
   "metadata": {}
  },
  {
   "cell_type": "code",
   "execution_count": 2,
   "metadata": {},
   "outputs": [],
   "source": [
    "import pandas as pd\n",
    "import sqlite3\n",
    "import glob"
   ]
  },
  {
   "cell_type": "code",
   "execution_count": 3,
   "metadata": {},
   "outputs": [],
   "source": [
    "# glob 套件是用來找符合特定規則的文件名，跟我們用搜尋跳出來的結果差不多，這邊我們查詢附檔名為csv的檔案並存為一個列表的形式\n",
    "all_csv_file = glob.glob('*.csv') "
   ]
  },
  {
   "cell_type": "code",
   "execution_count": 4,
   "metadata": {},
   "outputs": [
    {
     "output_type": "execute_result",
     "data": {
      "text/plain": [
       "['20201117.csv', '20201118.csv', '20201119.csv', '20201120.csv']"
      ]
     },
     "metadata": {},
     "execution_count": 4
    }
   ],
   "source": [
    "all_csv_file"
   ]
  },
  {
   "cell_type": "code",
   "execution_count": 6,
   "metadata": {},
   "outputs": [
    {
     "output_type": "execute_result",
     "data": {
      "text/plain": [
       "   證券代號     證券名稱       成交股數   成交筆數         成交金額     開盤價     最高價     最低價  \\\n",
       "0  0050   元大台灣50  8,297,028  6,274  945,842,517  115.00  115.75  113.40   \n",
       "1  0051  元大中型100     52,504     46    2,155,141   40.86   41.25   40.86   \n",
       "2  0052     富邦科技  1,625,944    798  164,040,093  102.60  103.00  100.05   \n",
       "3  0053     元大電子     52,574     41    2,854,523   54.55   54.75   53.95   \n",
       "4  0054   元大台商50     33,877     13      901,322   26.70   26.70   26.59   \n",
       "\n",
       "      收盤價 漲跌(+/-)  漲跌價差  最後揭示買價 最後揭示買量  最後揭示賣價 最後揭示賣量   本益比  \n",
       "0  113.60       +  0.80  113.55     14  113.60    264  0.00  \n",
       "1   41.04       +  0.20   40.97     35   41.05      2  0.00  \n",
       "2  100.05       +  1.05  100.05      1  100.10     12  0.00  \n",
       "3   53.95       +  0.70   53.90      2   54.00      2  0.00  \n",
       "4   26.61       +  0.09   26.61     26   26.70     10  0.00  "
      ],
      "text/html": "<div>\n<style scoped>\n    .dataframe tbody tr th:only-of-type {\n        vertical-align: middle;\n    }\n\n    .dataframe tbody tr th {\n        vertical-align: top;\n    }\n\n    .dataframe thead th {\n        text-align: right;\n    }\n</style>\n<table border=\"1\" class=\"dataframe\">\n  <thead>\n    <tr style=\"text-align: right;\">\n      <th></th>\n      <th>證券代號</th>\n      <th>證券名稱</th>\n      <th>成交股數</th>\n      <th>成交筆數</th>\n      <th>成交金額</th>\n      <th>開盤價</th>\n      <th>最高價</th>\n      <th>最低價</th>\n      <th>收盤價</th>\n      <th>漲跌(+/-)</th>\n      <th>漲跌價差</th>\n      <th>最後揭示買價</th>\n      <th>最後揭示買量</th>\n      <th>最後揭示賣價</th>\n      <th>最後揭示賣量</th>\n      <th>本益比</th>\n    </tr>\n  </thead>\n  <tbody>\n    <tr>\n      <th>0</th>\n      <td>0050</td>\n      <td>元大台灣50</td>\n      <td>8,297,028</td>\n      <td>6,274</td>\n      <td>945,842,517</td>\n      <td>115.00</td>\n      <td>115.75</td>\n      <td>113.40</td>\n      <td>113.60</td>\n      <td>+</td>\n      <td>0.80</td>\n      <td>113.55</td>\n      <td>14</td>\n      <td>113.60</td>\n      <td>264</td>\n      <td>0.00</td>\n    </tr>\n    <tr>\n      <th>1</th>\n      <td>0051</td>\n      <td>元大中型100</td>\n      <td>52,504</td>\n      <td>46</td>\n      <td>2,155,141</td>\n      <td>40.86</td>\n      <td>41.25</td>\n      <td>40.86</td>\n      <td>41.04</td>\n      <td>+</td>\n      <td>0.20</td>\n      <td>40.97</td>\n      <td>35</td>\n      <td>41.05</td>\n      <td>2</td>\n      <td>0.00</td>\n    </tr>\n    <tr>\n      <th>2</th>\n      <td>0052</td>\n      <td>富邦科技</td>\n      <td>1,625,944</td>\n      <td>798</td>\n      <td>164,040,093</td>\n      <td>102.60</td>\n      <td>103.00</td>\n      <td>100.05</td>\n      <td>100.05</td>\n      <td>+</td>\n      <td>1.05</td>\n      <td>100.05</td>\n      <td>1</td>\n      <td>100.10</td>\n      <td>12</td>\n      <td>0.00</td>\n    </tr>\n    <tr>\n      <th>3</th>\n      <td>0053</td>\n      <td>元大電子</td>\n      <td>52,574</td>\n      <td>41</td>\n      <td>2,854,523</td>\n      <td>54.55</td>\n      <td>54.75</td>\n      <td>53.95</td>\n      <td>53.95</td>\n      <td>+</td>\n      <td>0.70</td>\n      <td>53.90</td>\n      <td>2</td>\n      <td>54.00</td>\n      <td>2</td>\n      <td>0.00</td>\n    </tr>\n    <tr>\n      <th>4</th>\n      <td>0054</td>\n      <td>元大台商50</td>\n      <td>33,877</td>\n      <td>13</td>\n      <td>901,322</td>\n      <td>26.70</td>\n      <td>26.70</td>\n      <td>26.59</td>\n      <td>26.61</td>\n      <td>+</td>\n      <td>0.09</td>\n      <td>26.61</td>\n      <td>26</td>\n      <td>26.70</td>\n      <td>10</td>\n      <td>0.00</td>\n    </tr>\n  </tbody>\n</table>\n</div>"
     },
     "metadata": {},
     "execution_count": 6
    }
   ],
   "source": [
    "df = pd.read_csv(all_csv_file[0])\n",
    "df.iloc[:, 1:].head()"
   ]
  },
  {
   "source": [
    "## 2. 創建資料庫，存成以時間排序為一張張表的資料庫\n",
    "* python 內建sqlite套件，我們無須特別安裝\n",
    "* 支援完整sql語法查詢我們的資料\n",
    "* 使用以及轉移方便，一個資料庫就像一個本地文件"
   ],
   "cell_type": "markdown",
   "metadata": {}
  },
  {
   "cell_type": "code",
   "execution_count": 9,
   "metadata": {},
   "outputs": [],
   "source": [
    "dbname = 'twstock.db'\n",
    "db = sqlite3.connect(dbname)\n",
    "for file_name in all_csv_file:\n",
    "    pd.read_csv(file_name).iloc[:, 1:].to_sql(file_name.replace(\".csv\",''), db, if_exists = 'replace')"
   ]
  },
  {
   "source": [
    "## 如何讀取資料庫的表格\n",
    "### 簡單介紹如何讀取sqlite檔案裡面的表格"
   ],
   "cell_type": "markdown",
   "metadata": {}
  },
  {
   "cell_type": "code",
   "execution_count": 22,
   "metadata": {},
   "outputs": [
    {
     "output_type": "execute_result",
     "data": {
      "text/plain": [
       "'20201118.csv'"
      ]
     },
     "metadata": {},
     "execution_count": 22
    }
   ],
   "source": [
    "all_csv_file[1]"
   ]
  },
  {
   "cell_type": "code",
   "execution_count": 27,
   "metadata": {},
   "outputs": [],
   "source": [
    "test_df = pd.read_sql(con= db, sql = 'SELECT * FROM \"20201117\"')\n",
    "test_df['Date'] = '20201117'\n",
    "test_df_2 = pd.read_sql(con = db, sql = 'SELECT * FROM \"20201118\"')\n",
    "test_df_2['Date'] = '20201118'"
   ]
  },
  {
   "cell_type": "code",
   "execution_count": 28,
   "metadata": {},
   "outputs": [],
   "source": [
    "test_dict = dict(tuple(test_df.append(test_df_2).groupby('證券代號')))"
   ]
  },
  {
   "cell_type": "code",
   "execution_count": 30,
   "metadata": {},
   "outputs": [],
   "source": [
    "test_2330 = test_dict['2330']\n",
    "test_2330['Date'] = pd.to_datetime(test_2330['Date'])"
   ]
  },
  {
   "cell_type": "code",
   "execution_count": 31,
   "metadata": {},
   "outputs": [
    {
     "output_type": "execute_result",
     "data": {
      "text/plain": [
       "     index  證券代號 證券名稱        成交股數    成交筆數            成交金額     開盤價     最高價  \\\n",
       "422    422  2330  台積電  75,763,870  68,560  37,446,278,783  502.00  506.00   \n",
       "422    422  2330  台積電  56,607,501  38,186  27,883,387,314  490.00  497.00   \n",
       "\n",
       "        最低價     收盤價 漲跌(+/-)  漲跌價差  最後揭示買價 最後揭示買量  最後揭示賣價 最後揭示賣量    本益比  \\\n",
       "422  485.50  485.50       +   1.5  485.50    377  486.00    197  25.63   \n",
       "422  486.50  497.00       +  11.5  496.50    276  497.00    131  26.24   \n",
       "\n",
       "          Date  \n",
       "422 2020-11-17  \n",
       "422 2020-11-18  "
      ],
      "text/html": "<div>\n<style scoped>\n    .dataframe tbody tr th:only-of-type {\n        vertical-align: middle;\n    }\n\n    .dataframe tbody tr th {\n        vertical-align: top;\n    }\n\n    .dataframe thead th {\n        text-align: right;\n    }\n</style>\n<table border=\"1\" class=\"dataframe\">\n  <thead>\n    <tr style=\"text-align: right;\">\n      <th></th>\n      <th>index</th>\n      <th>證券代號</th>\n      <th>證券名稱</th>\n      <th>成交股數</th>\n      <th>成交筆數</th>\n      <th>成交金額</th>\n      <th>開盤價</th>\n      <th>最高價</th>\n      <th>最低價</th>\n      <th>收盤價</th>\n      <th>漲跌(+/-)</th>\n      <th>漲跌價差</th>\n      <th>最後揭示買價</th>\n      <th>最後揭示買量</th>\n      <th>最後揭示賣價</th>\n      <th>最後揭示賣量</th>\n      <th>本益比</th>\n      <th>Date</th>\n    </tr>\n  </thead>\n  <tbody>\n    <tr>\n      <th>422</th>\n      <td>422</td>\n      <td>2330</td>\n      <td>台積電</td>\n      <td>75,763,870</td>\n      <td>68,560</td>\n      <td>37,446,278,783</td>\n      <td>502.00</td>\n      <td>506.00</td>\n      <td>485.50</td>\n      <td>485.50</td>\n      <td>+</td>\n      <td>1.5</td>\n      <td>485.50</td>\n      <td>377</td>\n      <td>486.00</td>\n      <td>197</td>\n      <td>25.63</td>\n      <td>2020-11-17</td>\n    </tr>\n    <tr>\n      <th>422</th>\n      <td>422</td>\n      <td>2330</td>\n      <td>台積電</td>\n      <td>56,607,501</td>\n      <td>38,186</td>\n      <td>27,883,387,314</td>\n      <td>490.00</td>\n      <td>497.00</td>\n      <td>486.50</td>\n      <td>497.00</td>\n      <td>+</td>\n      <td>11.5</td>\n      <td>496.50</td>\n      <td>276</td>\n      <td>497.00</td>\n      <td>131</td>\n      <td>26.24</td>\n      <td>2020-11-18</td>\n    </tr>\n  </tbody>\n</table>\n</div>"
     },
     "metadata": {},
     "execution_count": 31
    }
   ],
   "source": [
    "test_2330"
   ]
  },
  {
   "source": [
    "## 3. 整理出以個股為一張張表的資料庫"
   ],
   "cell_type": "markdown",
   "metadata": {}
  },
  {
   "cell_type": "code",
   "execution_count": 16,
   "metadata": {},
   "outputs": [],
   "source": [
    "dates_list = [file_name.replace('.csv', '') for file_name in all_csv_file]"
   ]
  },
  {
   "cell_type": "code",
   "execution_count": 20,
   "metadata": {},
   "outputs": [
    {
     "output_type": "stream",
     "name": "stdout",
     "text": [
      "Wall time: 77.6 ms\n"
     ]
    }
   ],
   "source": [
    "%%time\n",
    "## 先做成一個大表\n",
    "total_df = pd.DataFrame()\n",
    "for date in dates_list:\n",
    "    df = pd.read_sql(con = db, sql = 'SELECT * FROM '+ '\"'+ date + '\"')\n",
    "    df[\"Date\"] = date\n",
    "    total_df = total_df.append(df)"
   ]
  },
  {
   "cell_type": "code",
   "execution_count": 21,
   "metadata": {},
   "outputs": [
    {
     "output_type": "execute_result",
     "data": {
      "text/plain": [
       "(4480, 18)"
      ]
     },
     "metadata": {},
     "execution_count": 21
    }
   ],
   "source": [
    "total_df.shape"
   ]
  },
  {
   "cell_type": "code",
   "execution_count": 32,
   "metadata": {},
   "outputs": [],
   "source": [
    "dbname_2 = \"twstock2\"\n",
    "db2 = sqlite3.connect(dbname_2)"
   ]
  },
  {
   "cell_type": "code",
   "execution_count": 33,
   "metadata": {},
   "outputs": [],
   "source": [
    "total_dict = dict(tuple(total_df.groupby('證券代號')))\n",
    "for key in total_dict.keys():\n",
    "    df = total_dict[key].iloc[:, 2:]\n",
    "    df['Date'] =pd.to_datetime(df['Date'])\n",
    "    df = df.sort_values(by = ['Date'])\n",
    "    df.to_sql(key, db2, if_exists = 'replace')"
   ]
  },
  {
   "cell_type": "code",
   "execution_count": 42,
   "metadata": {},
   "outputs": [
    {
     "output_type": "execute_result",
     "data": {
      "text/plain": [
       "   index   證券名稱       成交股數   成交筆數         成交金額    開盤價    最高價    最低價    收盤價  \\\n",
       "0    665  凱羿-KY  2,162,406    796  183,957,563  81.20  89.30  81.20  84.60   \n",
       "1    665  凱羿-KY    277,945    153   21,179,409  76.20  76.20  76.20  76.20   \n",
       "2    664  凱羿-KY  3,637,386  1,862  264,481,652  76.00  78.60  69.00  71.00   \n",
       "3    664  凱羿-KY  2,443,392  1,522  161,398,105  71.00  73.00  63.90  63.90   \n",
       "\n",
       "  漲跌(+/-)  漲跌價差 最後揭示買價 最後揭示買量 最後揭示賣價 最後揭示賣量   本益比                 Date  \n",
       "0       +   3.4  84.60      1  85.80      1  0.00  2020-11-17 00:00:00  \n",
       "1       -   8.4     --      0  76.20    512  0.00  2020-11-18 00:00:00  \n",
       "2       -   5.2  71.00     14  71.10      2  0.00  2020-11-19 00:00:00  \n",
       "3       -   7.1  63.90     38  64.00     14  0.00  2020-11-20 00:00:00  "
      ],
      "text/html": "<div>\n<style scoped>\n    .dataframe tbody tr th:only-of-type {\n        vertical-align: middle;\n    }\n\n    .dataframe tbody tr th {\n        vertical-align: top;\n    }\n\n    .dataframe thead th {\n        text-align: right;\n    }\n</style>\n<table border=\"1\" class=\"dataframe\">\n  <thead>\n    <tr style=\"text-align: right;\">\n      <th></th>\n      <th>index</th>\n      <th>證券名稱</th>\n      <th>成交股數</th>\n      <th>成交筆數</th>\n      <th>成交金額</th>\n      <th>開盤價</th>\n      <th>最高價</th>\n      <th>最低價</th>\n      <th>收盤價</th>\n      <th>漲跌(+/-)</th>\n      <th>漲跌價差</th>\n      <th>最後揭示買價</th>\n      <th>最後揭示買量</th>\n      <th>最後揭示賣價</th>\n      <th>最後揭示賣量</th>\n      <th>本益比</th>\n      <th>Date</th>\n    </tr>\n  </thead>\n  <tbody>\n    <tr>\n      <th>0</th>\n      <td>665</td>\n      <td>凱羿-KY</td>\n      <td>2,162,406</td>\n      <td>796</td>\n      <td>183,957,563</td>\n      <td>81.20</td>\n      <td>89.30</td>\n      <td>81.20</td>\n      <td>84.60</td>\n      <td>+</td>\n      <td>3.4</td>\n      <td>84.60</td>\n      <td>1</td>\n      <td>85.80</td>\n      <td>1</td>\n      <td>0.00</td>\n      <td>2020-11-17 00:00:00</td>\n    </tr>\n    <tr>\n      <th>1</th>\n      <td>665</td>\n      <td>凱羿-KY</td>\n      <td>277,945</td>\n      <td>153</td>\n      <td>21,179,409</td>\n      <td>76.20</td>\n      <td>76.20</td>\n      <td>76.20</td>\n      <td>76.20</td>\n      <td>-</td>\n      <td>8.4</td>\n      <td>--</td>\n      <td>0</td>\n      <td>76.20</td>\n      <td>512</td>\n      <td>0.00</td>\n      <td>2020-11-18 00:00:00</td>\n    </tr>\n    <tr>\n      <th>2</th>\n      <td>664</td>\n      <td>凱羿-KY</td>\n      <td>3,637,386</td>\n      <td>1,862</td>\n      <td>264,481,652</td>\n      <td>76.00</td>\n      <td>78.60</td>\n      <td>69.00</td>\n      <td>71.00</td>\n      <td>-</td>\n      <td>5.2</td>\n      <td>71.00</td>\n      <td>14</td>\n      <td>71.10</td>\n      <td>2</td>\n      <td>0.00</td>\n      <td>2020-11-19 00:00:00</td>\n    </tr>\n    <tr>\n      <th>3</th>\n      <td>664</td>\n      <td>凱羿-KY</td>\n      <td>2,443,392</td>\n      <td>1,522</td>\n      <td>161,398,105</td>\n      <td>71.00</td>\n      <td>73.00</td>\n      <td>63.90</td>\n      <td>63.90</td>\n      <td>-</td>\n      <td>7.1</td>\n      <td>63.90</td>\n      <td>38</td>\n      <td>64.00</td>\n      <td>14</td>\n      <td>0.00</td>\n      <td>2020-11-20 00:00:00</td>\n    </tr>\n  </tbody>\n</table>\n</div>"
     },
     "metadata": {},
     "execution_count": 42
    }
   ],
   "source": [
    "pd.read_sql(con = db2, sql = 'SELECT * FROM \"2939\"')"
   ]
  }
 ]
}