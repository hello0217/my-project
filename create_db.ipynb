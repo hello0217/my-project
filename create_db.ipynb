{
 "metadata": {
  "language_info": {
   "codemirror_mode": {
    "name": "ipython",
    "version": 3
   },
   "file_extension": ".py",
   "mimetype": "text/x-python",
   "name": "python",
   "nbconvert_exporter": "python",
   "pygments_lexer": "ipython3",
   "version": "3.7.3-final"
  },
  "orig_nbformat": 2,
  "kernelspec": {
   "name": "python3",
   "display_name": "Python 3.7.3 64-bit (conda)",
   "metadata": {
    "interpreter": {
     "hash": "95d73d6fd1cff5fb2f41ff3c75621fd967f90acca1c16714a7d5860f4cfbfbc9"
    }
   }
  }
 },
 "nbformat": 4,
 "nbformat_minor": 2,
 "cells": [
  {
   "source": [
    "# 創建一個sqlite檔案，整理抓到的csv檔案"
   ],
   "cell_type": "markdown",
   "metadata": {}
  },
  {
   "source": [
    "* 利用 glob及 pandas套件來讀取資料\n",
    "\n",
    "* 建立一個 sqlite檔案 來存入資料庫\n",
    "\n",
    "* 進一步整理為用個股來分的資料庫"
   ],
   "cell_type": "markdown",
   "metadata": {}
  },
  {
   "source": [
    "## 1. 讀取我們抓到的資料\n",
    "### 用 pandas一個一個讀入很沒有效率，使用 glob套件一次讀入所有的 csv檔案"
   ],
   "cell_type": "markdown",
   "metadata": {}
  },
  {
   "cell_type": "code",
   "execution_count": 1,
   "metadata": {},
   "outputs": [],
   "source": [
    "import pandas as pd\n",
    "import sqlite3\n",
    "import glob"
   ]
  },
  {
   "cell_type": "code",
   "execution_count": 2,
   "metadata": {},
   "outputs": [],
   "source": [
    "# glob 套件是用來找符合特定規則的文件名，跟我們用搜尋跳出來的結果差不多，這邊我們查詢附檔名為csv的檔案並存為一個列表的形式\n",
    "all_csv_file = glob.glob('*.csv') "
   ]
  },
  {
   "cell_type": "code",
   "execution_count": null,
   "metadata": {},
   "outputs": [],
   "source": []
  }
 ]
}